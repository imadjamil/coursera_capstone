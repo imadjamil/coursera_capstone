{
  "nbformat": 4,
  "nbformat_minor": 0,
  "metadata": {
    "language_info": {
      "codemirror_mode": {
        "name": "ipython",
        "version": 3
      },
      "file_extension": ".py",
      "mimetype": "text/x-python",
      "name": "python",
      "nbconvert_exporter": "python",
      "pygments_lexer": "ipython3",
      "version": "3.8.3-final"
    },
    "orig_nbformat": 2,
    "kernelspec": {
      "name": "python3",
      "display_name": "Python 3"
    },
    "colab": {
      "name": "coursera_capstone.ipynb",
      "provenance": [],
      "include_colab_link": true
    }
  },
  "cells": [
    {
      "cell_type": "markdown",
      "metadata": {
        "id": "view-in-github",
        "colab_type": "text"
      },
      "source": [
        "<a href=\"https://colab.research.google.com/github/imadjamil/coursera_capstone/blob/master/coursera_capstone.ipynb\" target=\"_parent\"><img src=\"https://colab.research.google.com/assets/colab-badge.svg\" alt=\"Open In Colab\"/></a>"
      ]
    },
    {
      "cell_type": "markdown",
      "metadata": {
        "id": "PP_dODM06j41"
      },
      "source": [
        "# Coursera capstone project\n",
        "In this notebook, I will be working on the applied data science capstone project."
      ]
    },
    {
      "cell_type": "markdown",
      "metadata": {
        "id": "2I5mFCDO6j43"
      },
      "source": [
        "## Import section"
      ]
    },
    {
      "cell_type": "code",
      "metadata": {
        "tags": [],
        "id": "XPe1XL_96j47",
        "outputId": "6ca6adcd-1843-478c-80d8-27c3a7a2cecb",
        "colab": {
          "base_uri": "https://localhost:8080/",
          "height": 34
        }
      },
      "source": [
        "import pandas as pd\n",
        "import pylab as pl\n",
        "import numpy as np\n",
        "import scipy.optimize as opt\n",
        "from sklearn import preprocessing\n",
        "from sklearn.model_selection import train_test_split\n",
        "from sklearn.metrics import accuracy_score, classification_report, confusion_matrix\n",
        "from sklearn.utils import resample\n",
        "import matplotlib.pyplot as plt\n",
        "import seaborn as sns\n",
        "import time\n",
        "import pickle\n",
        "#import ml_utils as mlu\n",
        "#import config as cfg\n",
        "\n",
        "\n",
        "print(\"Hello Capstone Project Course!\")"
      ],
      "execution_count": 58,
      "outputs": [
        {
          "output_type": "stream",
          "text": [
            "Hello Capstone Project Course!\n"
          ],
          "name": "stdout"
        }
      ]
    },
    {
      "cell_type": "code",
      "metadata": {
        "id": "b_gs9B_Z7Qp7",
        "outputId": "3eba67f2-d3dc-421c-a322-d9223daa0113",
        "colab": {
          "base_uri": "https://localhost:8080/",
          "height": 34
        }
      },
      "source": [
        "from google.colab import drive\n",
        "drive.mount('/content/drive')"
      ],
      "execution_count": 59,
      "outputs": [
        {
          "output_type": "stream",
          "text": [
            "Drive already mounted at /content/drive; to attempt to forcibly remount, call drive.mount(\"/content/drive\", force_remount=True).\n"
          ],
          "name": "stdout"
        }
      ]
    },
    {
      "cell_type": "code",
      "metadata": {
        "id": "A0Pz1mr-CAIt",
        "outputId": "a739a3a7-213c-4c71-81c5-202df7f7a858",
        "colab": {
          "resources": {
            "http://localhost:8080/nbextensions/google.colab/files.js": {
              "data": "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",
              "ok": true,
              "headers": [
                [
                  "content-type",
                  "application/javascript"
                ]
              ],
              "status": 200,
              "status_text": ""
            }
          },
          "base_uri": "https://localhost:8080/",
          "height": 89
        }
      },
      "source": [
        "from google.colab import files\n",
        "files.upload()"
      ],
      "execution_count": null,
      "outputs": [
        {
          "output_type": "display_data",
          "data": {
            "text/html": [
              "\n",
              "     <input type=\"file\" id=\"files-3a81a5db-fb0f-441d-b6a0-776de0064a90\" name=\"files[]\" multiple disabled\n",
              "        style=\"border:none\" />\n",
              "     <output id=\"result-3a81a5db-fb0f-441d-b6a0-776de0064a90\">\n",
              "      Upload widget is only available when the cell has been executed in the\n",
              "      current browser session. Please rerun this cell to enable.\n",
              "      </output>\n",
              "      <script src=\"/nbextensions/google.colab/files.js\"></script> "
            ],
            "text/plain": [
              "<IPython.core.display.HTML object>"
            ]
          },
          "metadata": {
            "tags": []
          }
        },
        {
          "output_type": "stream",
          "text": [
            "Saving kaggle.json to kaggle.json\n"
          ],
          "name": "stdout"
        },
        {
          "output_type": "execute_result",
          "data": {
            "text/plain": [
              "{'kaggle.json': b'{\"username\":\"imjamil\",\"key\":\"7a7fc7ce6b90ff210a11de696b6f8888\"}'}"
            ]
          },
          "metadata": {
            "tags": []
          },
          "execution_count": 3
        }
      ]
    },
    {
      "cell_type": "code",
      "metadata": {
        "id": "kNi1TYZeCAv3"
      },
      "source": [
        "!mkdir ~/.kaggle\n",
        "!cp kaggle.json ~/.kaggle/"
      ],
      "execution_count": null,
      "outputs": []
    },
    {
      "cell_type": "code",
      "metadata": {
        "id": "EO97fbMmDNad"
      },
      "source": [
        "!chmod 600 ~/.kaggle/kaggle.json"
      ],
      "execution_count": null,
      "outputs": []
    },
    {
      "cell_type": "code",
      "metadata": {
        "id": "CSsqhWqjDQMQ",
        "outputId": "415425e3-fa19-46c8-84f0-1e01004c7a47",
        "colab": {
          "base_uri": "https://localhost:8080/",
          "height": 408
        }
      },
      "source": [
        "!kaggle datasets list"
      ],
      "execution_count": null,
      "outputs": [
        {
          "output_type": "stream",
          "text": [
            "Warning: Looks like you're using an outdated API Version, please consider updating (server 1.5.6 / client 1.5.4)\n",
            "ref                                                               title                                                 size  lastUpdated          downloadCount  \n",
            "----------------------------------------------------------------  --------------------------------------------------  ------  -------------------  -------------  \n",
            "christianlillelund/donald-trumps-rallies                          Donald Trump's Rallies                               720KB  2020-09-26 10:25:08            821  \n",
            "heeraldedhia/groceries-dataset                                    Groceries dataset                                    257KB  2020-09-17 04:36:08           3803  \n",
            "andrewmvd/trip-advisor-hotel-reviews                              Trip Advisor Hotel Reviews                             5MB  2020-09-30 08:31:20           2162  \n",
            "balraj98/stanford-background-dataset                              Stanford Background Dataset                           17MB  2020-09-26 12:57:59            225  \n",
            "nehaprabhavalkar/indian-food-101                                  Indian Food 101                                        7KB  2020-09-30 06:23:43           3079  \n",
            "jilkothari/finance-accounting-courses-udemy-13k-course            Finance & Accounting Courses - Udemy (13K+ course)  1000KB  2020-09-17 12:46:12           1038  \n",
            "balraj98/massachusetts-roads-dataset                              Massachusetts Roads Dataset                            6GB  2020-09-26 03:57:49            181  \n",
            "arslanali4343/top-personality-dataset                             Top Personality Dataset                                9MB  2020-09-27 21:25:45           1189  \n",
            "oldaandozerskaya/fiction-corpus-for-agebased-text-classification  RusAge: Corpus for Age-Based Text Classification     509MB  2020-09-28 09:30:12             75  \n",
            "gpreda/chinese-mnist                                              Chinese MNIST                                         10MB  2020-08-05 12:36:00            409  \n",
            "gpreda/local-elections-romania-2020                               Local Elections Romania 2020                          28MB  2020-09-27 20:46:11            181  \n",
            "anth7310/mental-health-in-the-tech-industry                       Mental Health in the Tech Industry                     2MB  2020-09-27 11:17:23           1680  \n",
            "roshansharma/sanfranciso-crime-dataset                            Sanfranciso Crime Dataset                              6MB  2019-05-29 12:45:44           4536  \n",
            "bppuneethpai/tldr-summary-for-man-pages                           TLDR summary for man pages                             8MB  2020-09-25 09:50:10             36  \n",
            "sterby/german-recipes-dataset                                     German Recipes Dataset                                 5MB  2019-03-06 16:25:22            933  \n",
            "thomaskonstantin/top-270-rated-computer-science-programing-books  Top 270 Computer Science / Programing Books           45KB  2020-09-28 16:47:12            636  \n",
            "arslanali4343/real-estate-dataset                                 Real Estate DataSet                                   12KB  2020-09-28 21:25:33           1350  \n",
            "leangab/poe-short-stories-corpuscsv                               E.A. Poe's corpus of short stories                   725KB  2020-09-28 11:43:08            136  \n",
            "anmolkumar/health-insurance-cross-sell-prediction                 Health Insurance Cross Sell Prediction 🏠 🏥             6MB  2020-09-11 18:39:31           4709  \n",
            "ramjidoolla/ipl-data-set                                          IPL _Data_Set                                          1MB  2020-09-14 10:57:42           4739  \n"
          ],
          "name": "stdout"
        }
      ]
    },
    {
      "cell_type": "code",
      "metadata": {
        "id": "fQ5p-NqKDhfq",
        "outputId": "05a597b0-0140-4354-a402-7f75809dc00c",
        "colab": {
          "base_uri": "https://localhost:8080/",
          "height": 68
        }
      },
      "source": [
        "!kaggle datasets download -d sobhanmoosavi/us-accidents"
      ],
      "execution_count": null,
      "outputs": [
        {
          "output_type": "stream",
          "text": [
            "Downloading us-accidents.zip to /content\n",
            " 97% 225M/232M [00:02<00:00, 53.8MB/s]\n",
            "100% 232M/232M [00:02<00:00, 83.3MB/s]\n"
          ],
          "name": "stdout"
        }
      ]
    },
    {
      "cell_type": "code",
      "metadata": {
        "id": "Os_6jK6vDn6G",
        "outputId": "d66cc87b-d1a8-47a0-b984-fcc8b4e89cd2",
        "colab": {
          "base_uri": "https://localhost:8080/",
          "height": 52
        }
      },
      "source": [
        "!unzip us-accidents.zip -d /content/drive/My\\ Drive/colab/training/coursera/9\\_Capstone/data"
      ],
      "execution_count": null,
      "outputs": [
        {
          "output_type": "stream",
          "text": [
            "Archive:  us-accidents.zip\n",
            "  inflating: /content/drive/My Drive/colab/training/coursera/9_Capstone/data/US_Accidents_June20.csv  \n"
          ],
          "name": "stdout"
        }
      ]
    },
    {
      "cell_type": "markdown",
      "metadata": {
        "id": "CO5uAb-76j5C"
      },
      "source": [
        "## Data processing section"
      ]
    },
    {
      "cell_type": "code",
      "metadata": {
        "id": "bNuY3BvNBjhn",
        "outputId": "25af3943-66c6-4b31-990c-99ebcef17024",
        "colab": {
          "base_uri": "https://localhost:8080/",
          "height": 34
        }
      },
      "source": [
        "df = pd.read_csv(r'/content/drive/My Drive/colab/training/coursera/9_Capstone/data/US_Accidents_June20.csv')\n",
        "df.shape"
      ],
      "execution_count": null,
      "outputs": [
        {
          "output_type": "execute_result",
          "data": {
            "text/plain": [
              "(3513617, 49)"
            ]
          },
          "metadata": {
            "tags": []
          },
          "execution_count": 3
        }
      ]
    },
    {
      "cell_type": "code",
      "metadata": {
        "id": "p-f9lodaA-8D",
        "outputId": "8fffd377-3f7e-416c-8e96-6c952d6091a4",
        "colab": {
          "base_uri": "https://localhost:8080/",
          "height": 221
        }
      },
      "source": [
        "df.columns"
      ],
      "execution_count": null,
      "outputs": [
        {
          "output_type": "execute_result",
          "data": {
            "text/plain": [
              "Index(['ID', 'Source', 'TMC', 'Severity', 'Start_Time', 'End_Time',\n",
              "       'Start_Lat', 'Start_Lng', 'End_Lat', 'End_Lng', 'Distance(mi)',\n",
              "       'Description', 'Number', 'Street', 'Side', 'City', 'County', 'State',\n",
              "       'Zipcode', 'Country', 'Timezone', 'Airport_Code', 'Weather_Timestamp',\n",
              "       'Temperature(F)', 'Wind_Chill(F)', 'Humidity(%)', 'Pressure(in)',\n",
              "       'Visibility(mi)', 'Wind_Direction', 'Wind_Speed(mph)',\n",
              "       'Precipitation(in)', 'Weather_Condition', 'Amenity', 'Bump', 'Crossing',\n",
              "       'Give_Way', 'Junction', 'No_Exit', 'Railway', 'Roundabout', 'Station',\n",
              "       'Stop', 'Traffic_Calming', 'Traffic_Signal', 'Turning_Loop',\n",
              "       'Sunrise_Sunset', 'Civil_Twilight', 'Nautical_Twilight',\n",
              "       'Astronomical_Twilight'],\n",
              "      dtype='object')"
            ]
          },
          "metadata": {
            "tags": []
          },
          "execution_count": 4
        }
      ]
    },
    {
      "cell_type": "markdown",
      "metadata": {
        "id": "hTKjk4Z9BgaF"
      },
      "source": [
        "Missing values"
      ]
    },
    {
      "cell_type": "code",
      "metadata": {
        "id": "s1GF3HmyE4sE"
      },
      "source": [
        "df.drop(['ID', 'Source', 'Timezone', 'Airport_Code', 'Zipcode', 'Weather_Timestamp', 'Country', 'State', 'Description'],\n",
        "        axis=1,\n",
        "        inplace=True)"
      ],
      "execution_count": null,
      "outputs": []
    },
    {
      "cell_type": "code",
      "metadata": {
        "id": "7O9SOOZFGuTP",
        "outputId": "d08b4fb0-00a0-4bbb-dce0-dbae0d298241",
        "colab": {
          "base_uri": "https://localhost:8080/",
          "height": 119
        }
      },
      "source": [
        "for col in df.columns:\n",
        "  s = sum(df[col].isna())/df.shape[0]\n",
        "  if s > 0.2:\n",
        "    print('na in ' + col + ': ' + str(s))\n"
      ],
      "execution_count": null,
      "outputs": [
        {
          "output_type": "stream",
          "text": [
            "na in TMC: 0.29451104090172603\n",
            "na in End_Lat: 0.7054889590982739\n",
            "na in End_Lng: 0.7054889590982739\n",
            "na in Number: 0.6440269386219386\n",
            "na in Wind_Chill(F): 0.5317167465890562\n",
            "na in Precipitation(in): 0.5765779252548016\n"
          ],
          "name": "stdout"
        }
      ]
    },
    {
      "cell_type": "code",
      "metadata": {
        "id": "2R0o_HwVGxro"
      },
      "source": [
        "df.drop(['TMC', 'End_Lat', 'End_Lng', 'Number', 'Wind_Chill(F)', 'Precipitation(in)'], \n",
        "        axis=1, \n",
        "        inplace=True)\n"
      ],
      "execution_count": null,
      "outputs": []
    },
    {
      "cell_type": "code",
      "metadata": {
        "id": "blaFY6Me3j8B",
        "outputId": "9a9e29d9-d761-48a9-eb78-6140c18f3c54",
        "colab": {
          "base_uri": "https://localhost:8080/",
          "height": 136
        }
      },
      "source": [
        "for col in df.columns:\n",
        "  s = sum(df[col].isna())/df.shape[0]\n",
        "  if s > 0.01:\n",
        "    print('na in ' + col + ': ' + str(s))"
      ],
      "execution_count": null,
      "outputs": [
        {
          "output_type": "stream",
          "text": [
            "na in Temperature(F): 0.01870778744524517\n",
            "na in Humidity(%): 0.01983340813754032\n",
            "na in Pressure(in): 0.01590440847707647\n",
            "na in Visibility(mi): 0.021589148731919274\n",
            "na in Wind_Direction: 0.01675595262659533\n",
            "na in Wind_Speed(mph): 0.12938490450154358\n",
            "na in Weather_Condition: 0.021669407906439432\n"
          ],
          "name": "stdout"
        }
      ]
    },
    {
      "cell_type": "code",
      "metadata": {
        "id": "8mR9TeHKH4ic"
      },
      "source": [
        "df['Temperature(F)'].fillna(df['Temperature(F)'].mean(),inplace=True)\n",
        "df['Humidity(%)'].fillna(df['Humidity(%)'].mean(),inplace=True)\n",
        "df['Pressure(in)'].fillna(df['Pressure(in)'].mean(),inplace=True)\n",
        "df['Visibility(mi)'].fillna(df['Visibility(mi)'].mean(),inplace=True)\n",
        "df['Wind_Speed(mph)'].fillna(df['Wind_Speed(mph)'].mean(),inplace=True)"
      ],
      "execution_count": null,
      "outputs": []
    },
    {
      "cell_type": "code",
      "metadata": {
        "id": "Td_o2wbn-Vdh"
      },
      "source": [
        "df.sort_values(['Start_Time', 'County', 'City'],inplace=True)\n",
        "df['Weather_Condition'].fillna(method='ffill',inplace=True) \n",
        "df['Wind_Direction'].fillna(method='ffill',inplace=True)\n",
        "df['Astronomical_Twilight'].fillna(method='ffill',inplace=True)\n",
        "df['Nautical_Twilight'].fillna(method='ffill',inplace=True)\n",
        "df['Civil_Twilight'].fillna(method='ffill',inplace=True)\n",
        "df['Sunrise_Sunset'].fillna(method='ffill',inplace=True)"
      ],
      "execution_count": null,
      "outputs": []
    },
    {
      "cell_type": "code",
      "metadata": {
        "id": "Zf00qSdn4b-Q",
        "outputId": "150ce16f-a228-41ea-df39-02435106f7c7",
        "colab": {
          "base_uri": "https://localhost:8080/",
          "height": 34
        }
      },
      "source": [
        "for col in df.columns:\n",
        "  s = sum(df[col].isna())/df.shape[0]\n",
        "  if s > 0:\n",
        "    print('na in ' + col + ': ' + str(s))"
      ],
      "execution_count": null,
      "outputs": [
        {
          "output_type": "stream",
          "text": [
            "na in City: 3.187598420658825e-05\n"
          ],
          "name": "stdout"
        }
      ]
    },
    {
      "cell_type": "code",
      "metadata": {
        "id": "MaaMPpnqPh_u",
        "outputId": "71560f70-2bc2-4511-989c-fba806b36f9d",
        "colab": {
          "base_uri": "https://localhost:8080/",
          "height": 34
        }
      },
      "source": [
        "df.shape"
      ],
      "execution_count": null,
      "outputs": [
        {
          "output_type": "execute_result",
          "data": {
            "text/plain": [
              "(3513617, 34)"
            ]
          },
          "metadata": {
            "tags": []
          },
          "execution_count": 11
        }
      ]
    },
    {
      "cell_type": "code",
      "metadata": {
        "id": "o6WJfHLu4fuh"
      },
      "source": [
        "df.dropna(axis=0, \n",
        "          inplace=True)"
      ],
      "execution_count": null,
      "outputs": []
    },
    {
      "cell_type": "code",
      "metadata": {
        "id": "HwCQjddD9iMW",
        "outputId": "10809cdb-2125-498f-a302-79651eba0dd8",
        "colab": {
          "base_uri": "https://localhost:8080/",
          "height": 34
        }
      },
      "source": [
        "df.shape"
      ],
      "execution_count": null,
      "outputs": [
        {
          "output_type": "execute_result",
          "data": {
            "text/plain": [
              "(3513505, 34)"
            ]
          },
          "metadata": {
            "tags": []
          },
          "execution_count": 13
        }
      ]
    },
    {
      "cell_type": "markdown",
      "metadata": {
        "id": "9m0I4qdELnXo"
      },
      "source": [
        "Date"
      ]
    },
    {
      "cell_type": "code",
      "metadata": {
        "id": "kG41QcmNLmPs"
      },
      "source": [
        "df['Start_Time'] = pd.to_datetime(df['Start_Time'], infer_datetime_format=True)"
      ],
      "execution_count": null,
      "outputs": []
    },
    {
      "cell_type": "code",
      "metadata": {
        "id": "rTqUwmiVMAei"
      },
      "source": [
        "df['year'] = df['Start_Time'].dt.year\n",
        "df['month'] = df['Start_Time'].dt.month\n",
        "df['day'] = df['Start_Time'].dt.day\n",
        "df['hour'] = df['Start_Time'].dt.hour\n",
        "df['weekday'] = df['Start_Time'].dt.weekday\n",
        "df.drop(['Start_Time', 'End_Time'], axis=1, inplace=True)"
      ],
      "execution_count": null,
      "outputs": []
    },
    {
      "cell_type": "markdown",
      "metadata": {
        "id": "l4oMzCfUBajB"
      },
      "source": [
        "Integer Encoding"
      ]
    },
    {
      "cell_type": "code",
      "metadata": {
        "id": "mOQ_Ar5sNkFN",
        "outputId": "3cda361d-30e8-4150-ea7f-285e045495e9",
        "colab": {
          "base_uri": "https://localhost:8080/",
          "height": 204
        }
      },
      "source": [
        "df.select_dtypes(include=['object']).dtypes"
      ],
      "execution_count": null,
      "outputs": [
        {
          "output_type": "execute_result",
          "data": {
            "text/plain": [
              "Street                   object\n",
              "Side                     object\n",
              "City                     object\n",
              "County                   object\n",
              "Wind_Direction           object\n",
              "Weather_Condition        object\n",
              "Sunrise_Sunset           object\n",
              "Civil_Twilight           object\n",
              "Nautical_Twilight        object\n",
              "Astronomical_Twilight    object\n",
              "dtype: object"
            ]
          },
          "metadata": {
            "tags": []
          },
          "execution_count": 17
        }
      ]
    },
    {
      "cell_type": "code",
      "metadata": {
        "id": "IsnzgELTywZK"
      },
      "source": [
        "## Save cleaned data"
      ],
      "execution_count": 7,
      "outputs": []
    },
    {
      "cell_type": "code",
      "metadata": {
        "id": "KPrZb5nUPxy6"
      },
      "source": [
        "with open(r'/content/drive/My Drive/colab/training/coursera/9_Capstone/data/clean.pickle','wb') as f:\n",
        "  pickle.dump(df, f)"
      ],
      "execution_count": null,
      "outputs": []
    },
    {
      "cell_type": "markdown",
      "metadata": {
        "id": "9XLFoudNKKgq"
      },
      "source": [
        "##Load cleaned data"
      ]
    },
    {
      "cell_type": "code",
      "metadata": {
        "id": "P4V-WeIwQVr5"
      },
      "source": [
        "with open(r'/content/drive/My Drive/colab/training/coursera/9_Capstone/data/clean.pickle','rb') as f:\n",
        "  df = pickle.load(f)"
      ],
      "execution_count": 70,
      "outputs": []
    },
    {
      "cell_type": "code",
      "metadata": {
        "id": "_aPzG8PQQgz5",
        "outputId": "0b454e1e-51bd-4864-9067-3b936de59855",
        "colab": {
          "base_uri": "https://localhost:8080/",
          "height": 102
        }
      },
      "source": [
        "df = df.sample(frac=0.1)\n",
        "\n",
        "target='Severity'\n",
        "features=['Start_Lat', 'Start_Lng', 'Distance(mi)', 'Side', 'Temperature(F)', 'Humidity(%)', 'Pressure(in)', \\\n",
        "          'Visibility(mi)', 'Wind_Direction', 'Sunrise_Sunset', 'Civil_Twilight', 'Weather_Condition', \\\n",
        "          'Crossing', 'Junction', 'Traffic_Signal', \\\n",
        "          'year', 'month', 'day', 'hour', 'weekday']\n",
        "\n",
        "df=df[features+[target]]\n",
        "\n",
        "\n",
        "#print(df.info())\n",
        "\n",
        "print(df[target].value_counts())"
      ],
      "execution_count": 71,
      "outputs": [
        {
          "output_type": "stream",
          "text": [
            "2    237191\n",
            "3     99887\n",
            "4     11390\n",
            "1      2882\n",
            "Name: Severity, dtype: int64\n"
          ],
          "name": "stdout"
        }
      ]
    },
    {
      "cell_type": "markdown",
      "metadata": {
        "id": "LiOidlvpLXeW"
      },
      "source": [
        "### Down-sampling"
      ]
    },
    {
      "cell_type": "code",
      "metadata": {
        "id": "tS1u7I9_KXUL",
        "outputId": "56123715-1faf-46ae-8f74-9af8d4754168",
        "colab": {
          "base_uri": "https://localhost:8080/",
          "height": 102
        }
      },
      "source": [
        "# Separate majority and minority classes\n",
        "\n",
        "df_minority = df[ df[target]==1 ]\n",
        " \n",
        "# Downsample majority class\n",
        "df_majority_downsampled_2 = resample(df[ df[target]==2 ], \n",
        "                                 replace=False,    # sample without replacement\n",
        "                                 n_samples=df_minority.shape[0],     # to match minority class\n",
        "                                 random_state=123) # reproducible results\n",
        "\n",
        "df_majority_downsampled_3 = resample(df[ df[target]==3 ], \n",
        "                                 replace=False,    # sample without replacement\n",
        "                                 n_samples=df_minority.shape[0],     # to match minority class\n",
        "                                 random_state=123) # reproducible results\n",
        "\n",
        "df_majority_downsampled_4 = resample(df[ df[target]==4 ], \n",
        "                                 replace=False,    # sample without replacement\n",
        "                                 n_samples=df_minority.shape[0],     # to match minority class\n",
        "                                 random_state=123) # reproducible results\n",
        " \n",
        "# Combine minority class with downsampled majority class\n",
        "df_downsampled = pd.concat([df_majority_downsampled_2, df_majority_downsampled_3, df_majority_downsampled_4, df_minority])\n",
        " \n",
        "# Display new class counts\n",
        "print(df_downsampled[target].value_counts())\n",
        "\n",
        "df = df_downsampled"
      ],
      "execution_count": 72,
      "outputs": [
        {
          "output_type": "stream",
          "text": [
            "4    2882\n",
            "3    2882\n",
            "2    2882\n",
            "1    2882\n",
            "Name: Severity, dtype: int64\n"
          ],
          "name": "stdout"
        }
      ]
    },
    {
      "cell_type": "code",
      "metadata": {
        "id": "vRfyslbVdmhl",
        "outputId": "bb364f7f-c200-4328-d64b-e9983892a561",
        "colab": {
          "base_uri": "https://localhost:8080/",
          "height": 34
        }
      },
      "source": [
        "obj_cols = ['Side', 'Wind_Direction', 'Sunrise_Sunset', 'Civil_Twilight', 'Weather_Condition'] \n",
        "df[obj_cols].shape"
      ],
      "execution_count": 7,
      "outputs": [
        {
          "output_type": "execute_result",
          "data": {
            "text/plain": [
              "(8784, 5)"
            ]
          },
          "metadata": {
            "tags": []
          },
          "execution_count": 7
        }
      ]
    },
    {
      "cell_type": "code",
      "metadata": {
        "id": "YoDu1-paCooh"
      },
      "source": [
        "df_dummies = pd.get_dummies(df[obj_cols])"
      ],
      "execution_count": 8,
      "outputs": []
    },
    {
      "cell_type": "code",
      "metadata": {
        "id": "-1yWgkPxEC17"
      },
      "source": [
        "df.drop(obj_cols, axis=1, inplace=True)\n",
        "df = df.join(df_dummies)\n",
        "\n",
        "df.info()"
      ],
      "execution_count": null,
      "outputs": []
    },
    {
      "cell_type": "code",
      "metadata": {
        "id": "JjhYCp61cXaO",
        "outputId": "0c684b27-f8a6-40e8-a647-d30b0239561d",
        "colab": {
          "base_uri": "https://localhost:8080/",
          "height": 34
        }
      },
      "source": [
        "df.shape"
      ],
      "execution_count": 15,
      "outputs": [
        {
          "output_type": "execute_result",
          "data": {
            "text/plain": [
              "(1124, 21)"
            ]
          },
          "metadata": {
            "tags": []
          },
          "execution_count": 15
        }
      ]
    },
    {
      "cell_type": "markdown",
      "metadata": {
        "id": "RKeLQnHvmVQy"
      },
      "source": [
        "# Model"
      ]
    },
    {
      "cell_type": "markdown",
      "metadata": {
        "id": "zB-JV11OOUMx"
      },
      "source": [
        "## Definitions"
      ]
    },
    {
      "cell_type": "code",
      "metadata": {
        "id": "OamBPI0XMqwm"
      },
      "source": [
        "def print_score(y_test, predictions):\n",
        "  accuracy_score(y_test, predictions)\n",
        "\n",
        "  print(\"Randon forest model, accuracy_score:\",accuracy_score(y_test, predictions))\n",
        "  print('\\n')\n",
        "  print('Confusion matrix')\n",
        "  print(confusion_matrix(y_test,predictions))\n",
        "  print('\\n')\n",
        "  print('Classificaiton report')\n",
        "  print(classification_report(y_test,predictions))\n",
        "\n",
        "def k_top_features_importances_list(forest, X, k):\n",
        "  importances = pd.Series(forest.feature_importances_,index=X.columns).sort_values(ascending=False)\n",
        "  std = np.std([pd.Series(tree.feature_importances_,index=X.columns).sort_values(ascending=False) for tree in forest.estimators_],\n",
        "              axis=0)\n",
        "  \n",
        "  indices = np.argsort(importances)[::-1][:k]\n",
        "\n",
        "  # Print the feature ranking\n",
        "  print(\"Feature ranking:\")\n",
        "\n",
        "  \n",
        "  #for f in range(X.shape[1]):\n",
        "  for f in range(k):\n",
        "\n",
        "      print(str(f+1) + '. ' + importances.index[indices[f]] + \": feature %d (%f)\" % (indices[f], importances[indices[f]]))\n",
        "\n",
        "  # Plot the impurity-based feature importances of the forest\n",
        "  plt.figure()\n",
        "  plt.title(\"Feature importances\")\n",
        "  plt.bar(range(k), importances[indices],\n",
        "          color=\"r\", yerr=std[indices], align=\"center\")\n",
        "  plt.xticks(range(k), indices)\n",
        "  plt.xlim([-1, k])\n",
        "  plt.show()\n",
        "\n",
        "def k_top_features_bar(forest, X, k):\n",
        "  feature_i = pd.Series(forest.feature_importances_,index=X.columns).sort_values(ascending=False)\n",
        "\n",
        "  sns.barplot(x=feature_i[:k], y=feature_i.index[:k])\n",
        "  plt.xlabel('Feature Importance Score')\n",
        "  plt.title(\"Top features\")\n",
        "  plt.legend()\n",
        "  plt.show()\n",
        "\n",
        "import numpy as np\n",
        "import pandas as pd\n",
        "import matplotlib.pyplot as plt\n",
        "%matplotlib inline\n",
        "from statsmodels.graphics.mosaicplot import mosaic\n",
        "from matplotlib.patches import Patch\n",
        "import itertools\n",
        "from collections import deque\n",
        "\n",
        "def nclass_classification_mosaic_plot(n_classes, results, ax=None):\n",
        "    \"\"\"\n",
        "    build a mosaic plot from the results of a classification\n",
        "    \n",
        "    parameters:\n",
        "    n_classes: number of classes\n",
        "    results: results of the prediction in form of an array of arrays\n",
        "    \n",
        "    In case of 3 classes the prdiction could look like\n",
        "    [[10, 2, 4],\n",
        "     [1, 12, 3],\n",
        "     [2, 2, 9]\n",
        "    ]\n",
        "    where there is one array for each class and each array holds the\n",
        "    predictions for each class [class 1, class 2, class 3].\n",
        "\n",
        "    usagle example:\n",
        "    n_classes = 4 # number of classes\n",
        "    results = [\n",
        "        [50, 4, 1, 2], # predictions for class 1\n",
        "        [1, 40, 4, 3], # predictions for class 2\n",
        "        [3, 2, 30, 1], # predictions for class 3\n",
        "        [1, 3, 1, 60], # predictions for class 4\n",
        "    ]\n",
        "    nclass_classification_mosaic_plot(ax, n_classes, results)\n",
        "    \n",
        "    This is just a prototype including colors for 6 classes.\n",
        "    \"\"\"\n",
        "    class_lists = [range(n_classes)]*2\n",
        "    mosaic_tuples = tuple(itertools.product(*class_lists))\n",
        "    \n",
        "    res_list = results[0]\n",
        "    for i, l in enumerate(results):\n",
        "        if i == 0:\n",
        "            pass\n",
        "        else:\n",
        "            tmp = deque(l)\n",
        "            tmp.rotate(-i)\n",
        "            res_list.extend(tmp)\n",
        "    data = {t:res_list[i] for i,t in enumerate(mosaic_tuples)}\n",
        "\n",
        "    if ax == None:\n",
        "      fig, ax = plt.subplots(figsize=(11, 10))\n",
        "      plt.rcParams.update({'font.size': 16})\n",
        "\n",
        "    font_color = '#2c3e50'\n",
        "    pallet = [\n",
        "        '#6a89cc', \n",
        "        '#4a69bd', \n",
        "        '#1e3799', \n",
        "        '#0c2461',\n",
        "        '#82ccdd',\n",
        "        '#60a3bc',\n",
        "    ]\n",
        "    colors = deque(pallet[:n_classes])\n",
        "    all_colors = []\n",
        "    for i in range(n_classes):\n",
        "        if i > 0:\n",
        "            colors.rotate(-1)\n",
        "        all_colors.extend(colors)\n",
        "\n",
        "    props = {(str(a), str(b)):{'color':all_colors[i]} for i,(a, b) in enumerate(mosaic_tuples)}\n",
        "\n",
        "    labelizer = lambda k: ''\n",
        "\n",
        "    p = mosaic(data, labelizer=labelizer, properties=props, ax=ax)\n",
        "\n",
        "    title_font_dict = {\n",
        "        'fontsize': 20,\n",
        "        'color' : font_color,\n",
        "    }\n",
        "    axis_label_font_dict = {\n",
        "        'fontsize': 16,\n",
        "        'color' : font_color,\n",
        "    }\n",
        "\n",
        "    ax.tick_params(axis = \"x\", which = \"both\", bottom = False, top = False)\n",
        "    ax.axes.yaxis.set_ticks([])\n",
        "    ax.tick_params(axis='x', which='major', labelsize=14)\n",
        "\n",
        "    ax.set_title('Classification Report', fontdict=title_font_dict, pad=25)\n",
        "    ax.set_xlabel('Observed Class', fontdict=axis_label_font_dict, labelpad=10)\n",
        "    ax.set_ylabel('Predicted Class', fontdict=axis_label_font_dict, labelpad=35)\n",
        "\n",
        "    legend_elements = [Patch(facecolor=all_colors[i], label='Class {}'.format(i)) for i in range(n_classes)]\n",
        "    ax.legend(handles=legend_elements, bbox_to_anchor=(1,1.018), fontsize=16, loc='upper left')\n",
        "\n",
        "    if ax == None:\n",
        "      plt.tight_layout()\n",
        "      plt.show()\n",
        "\n",
        "def make_confusion_matrix(cf,\n",
        "                          group_names=None,\n",
        "                          categories='auto',\n",
        "                          count=True,\n",
        "                          percent=True,\n",
        "                          cbar=True,\n",
        "                          xyticks=True,\n",
        "                          xyplotlabels=True,\n",
        "                          sum_stats=True,\n",
        "                          score_str=None,\n",
        "                          figsize=None,\n",
        "                          cmap='Blues',\n",
        "                          title=None,\n",
        "                          elapsed_time=None,\n",
        "                          ax=None):\n",
        "    '''\n",
        "    This function will make a pretty plot of an sklearn Confusion Matrix cm using a Seaborn heatmap visualization.\n",
        "    Arguments\n",
        "    ---------\n",
        "    cf:            confusion matrix to be passed in\n",
        "    group_names:   List of strings that represent the labels row by row to be shown in each square.\n",
        "    categories:    List of strings containing the categories to be displayed on the x,y axis. Default is 'auto'\n",
        "    count:         If True, show the raw number in the confusion matrix. Default is True.\n",
        "    normalize:     If True, show the proportions for each category. Default is True.\n",
        "    cbar:          If True, show the color bar. The cbar values are based off the values in the confusion matrix.\n",
        "                   Default is True.\n",
        "    xyticks:       If True, show x and y ticks. Default is True.\n",
        "    xyplotlabels:  If True, show 'True Label' and 'Predicted Label' on the figure. Default is True.\n",
        "    sum_stats:     If True, display summary statistics below the figure. Default is True.\n",
        "    figsize:       Tuple representing the figure size. Default will be the matplotlib rcParams value.\n",
        "    cmap:          Colormap of the values displayed from matplotlib.pyplot.cm. Default is 'Blues'\n",
        "                   See http://matplotlib.org/examples/color/colormaps_reference.html\n",
        "                   \n",
        "    title:         Title for the heatmap. Default is None.\n",
        "    '''\n",
        "\n",
        "\n",
        "    # CODE TO GENERATE TEXT INSIDE EACH SQUARE\n",
        "    blanks = ['' for i in range(cf.size)]\n",
        "\n",
        "    if group_names and len(group_names)==cf.size:\n",
        "        group_labels = [\"{}\\n\".format(value) for value in group_names]\n",
        "    else:\n",
        "        group_labels = blanks\n",
        "\n",
        "    if count:\n",
        "        group_counts = [\"{0:0.0f}\\n\".format(value) for value in cf.flatten()]\n",
        "    else:\n",
        "        group_counts = blanks\n",
        "\n",
        "    if percent:\n",
        "        group_percentages = [\"{0:.2%}\".format(value) for value in cf.flatten()/np.sum(cf)]\n",
        "    else:\n",
        "        group_percentages = blanks\n",
        "\n",
        "    box_labels = [f\"{v1}{v2}{v3}\".strip() for v1, v2, v3 in zip(group_labels,group_counts,group_percentages)]\n",
        "    box_labels = np.asarray(box_labels).reshape(cf.shape[0],cf.shape[1])\n",
        "\n",
        "\n",
        "    # CODE TO GENERATE SUMMARY STATISTICS & TEXT FOR SUMMARY STATS\n",
        "    if sum_stats:\n",
        "        #Accuracy is sum of diagonal divided by total observations\n",
        "        accuracy  = np.trace(cf) / float(np.sum(cf))\n",
        "\n",
        "        #if it is a binary confusion matrix, show some more stats\n",
        "        if len(cf)==2:\n",
        "            #Metrics for Binary Confusion Matrices\n",
        "            precision = cf[1,1] / sum(cf[:,1])\n",
        "            recall    = cf[1,1] / sum(cf[1,:])\n",
        "            f1_score  = 2*precision*recall / (precision + recall)\n",
        "            stats_text = \"\\n\\nAccuracy={:0.3f}\\nPrecision={:0.3f}\\nRecall={:0.3f}\\nF1 Score={:0.3f}\".format(\n",
        "                accuracy,precision,recall,f1_score)\n",
        "        else:\n",
        "            stats_text = \"\\n\\nAccuracy={:0.3f}\".format(accuracy)\n",
        "    else:\n",
        "        stats_text = \"\"\n",
        "\n",
        "\n",
        "    # SET FIGURE PARAMETERS ACCORDING TO OTHER ARGUMENTS\n",
        "    if figsize==None:\n",
        "        #Get default figure size if not set\n",
        "        figsize = plt.rcParams.get('figure.figsize')\n",
        "\n",
        "    if xyticks==False:\n",
        "        #Do not show categories if xyticks is False\n",
        "        categories=False\n",
        "\n",
        "\n",
        "    # MAKE THE HEATMAP VISUALIZATION\n",
        "    if ax == None:\n",
        "      fig, ax = plt.subplots(figsize=figsize)\n",
        "      \n",
        "    sns.heatmap(cf,annot=box_labels,fmt=\"\",cmap=cmap,cbar=cbar,xticklabels=categories,yticklabels=categories, ax=ax)\n",
        "\n",
        "    if xyplotlabels:\n",
        "        ax.set_ylabel('True label')\n",
        "        ax.set_xlabel('Predicted label' + stats_text)\n",
        "    else:\n",
        "        ax.set_xlabel(stats_text)\n",
        "\n",
        "    if score_str:\n",
        "      extra = plt.Rectangle((0, 0), 0, 0, fc=\"w\", fill=False,\n",
        "                          edgecolor='none', linewidth=0, alpha=0.2)\n",
        "      ax.legend([extra], [score_str], loc='upper center')\n",
        "    \n",
        "    if title:\n",
        "      if elapsed_time:\n",
        "        title = title + '\\n Eval in {:.2f} sec'.format(elapsed_time)\n",
        "      ax.set_title(title)\n",
        "\n",
        "def plot_regression_results(ax, y_true, y_pred, title, scores, elapsed_time):\n",
        "    \"\"\"Scatter plot of the predicted vs true targets.\"\"\"\n",
        "    ax.plot([y_true.min(), y_true.max()],\n",
        "            [y_true.min(), y_true.max()],\n",
        "            '--r', linewidth=2)\n",
        "    ax.scatter(y_true, y_pred, alpha=0.2)\n",
        "\n",
        "    ax.spines['top'].set_visible(False)\n",
        "    ax.spines['right'].set_visible(False)\n",
        "    ax.get_xaxis().tick_bottom()\n",
        "    ax.get_yaxis().tick_left()\n",
        "    ax.spines['left'].set_position(('outward', 10))\n",
        "    ax.spines['bottom'].set_position(('outward', 10))\n",
        "    ax.set_xlim([y_true.min(), y_true.max()])\n",
        "    ax.set_ylim([y_true.min(), y_true.max()])\n",
        "    ax.set_xlabel('Measured')\n",
        "    ax.set_ylabel('Predicted')\n",
        "    extra = plt.Rectangle((0, 0), 0, 0, fc=\"w\", fill=False,\n",
        "                          edgecolor='none', linewidth=0)\n",
        "    ax.legend([extra], [scores], loc='upper left')\n",
        "    title = title + '\\n Evaluation in {:.2f} seconds'.format(elapsed_time)\n",
        "    ax.set_title(title)"
      ],
      "execution_count": 64,
      "outputs": []
    },
    {
      "cell_type": "code",
      "metadata": {
        "id": "a1olN_ICecJQ"
      },
      "source": [
        "y=df[target]\n",
        "X=df.drop(target, axis=1)\n",
        "\n",
        "X_train, X_test, y_train, y_test = train_test_split(X, y, test_size=0.3, random_state=101)"
      ],
      "execution_count": 11,
      "outputs": []
    },
    {
      "cell_type": "markdown",
      "metadata": {
        "id": "l53z3dt3LUkF"
      },
      "source": [
        "## Random forest"
      ]
    },
    {
      "cell_type": "code",
      "metadata": {
        "id": "LRSygMrKgtML"
      },
      "source": [
        "from sklearn.ensemble import RandomForestClassifier\n",
        "\n",
        "mdl_rf=RandomForestClassifier(n_estimators=250)\n",
        "\n",
        "mdl_rf.fit(X_train,y_train)\n",
        "predictions=mdl_rf.predict(X_test)\n",
        "\n",
        "print_score(y_test, predictions)"
      ],
      "execution_count": null,
      "outputs": []
    },
    {
      "cell_type": "code",
      "metadata": {
        "id": "Bk6rSttLtq0e"
      },
      "source": [
        "k_top_features_importances_list(mdl_rf, X, 20)"
      ],
      "execution_count": null,
      "outputs": []
    },
    {
      "cell_type": "markdown",
      "metadata": {
        "id": "a3mYI_5ELi3A"
      },
      "source": [
        "##SVM"
      ]
    },
    {
      "cell_type": "code",
      "metadata": {
        "id": "P1y5ioi8RUpF"
      },
      "source": [
        "from sklearn.pipeline import make_pipeline\n",
        "from sklearn.preprocessing import StandardScaler\n",
        "from sklearn.svm import SVC\n",
        "\n",
        "clf = make_pipeline(StandardScaler(), SVC(gamma='auto'))\n",
        "\n",
        "clf.fit(X, y)\n",
        "\n",
        "Pipeline(steps=[('standardscaler', StandardScaler()),\n",
        "                ('svc', SVC(gamma='auto'))])\n",
        "\n",
        "predictions=clf.predict(X_test)\n",
        "\n",
        "print_score(y_test, predictions)"
      ],
      "execution_count": null,
      "outputs": []
    },
    {
      "cell_type": "markdown",
      "metadata": {
        "id": "hRhxbUhDSdCD"
      },
      "source": [
        "## Pipeline"
      ]
    },
    {
      "cell_type": "code",
      "metadata": {
        "id": "CGzJEaBvMGVb"
      },
      "source": [
        "from sklearn.compose import make_column_transformer\n",
        "from sklearn.impute import SimpleImputer\n",
        "from sklearn.pipeline import make_pipeline\n",
        "from sklearn.preprocessing import OneHotEncoder\n",
        "from sklearn.preprocessing import OrdinalEncoder\n",
        "from sklearn.preprocessing import StandardScaler\n",
        "\n",
        "X = df[features]\n",
        "y = df[target]\n",
        "\n",
        "cat_cols = X.columns[X.dtypes == 'O']\n",
        "num_cols = X.columns[X.dtypes == 'float64']\n",
        "\n",
        "categories = [\n",
        "    X[column].unique() for column in X[cat_cols]]\n",
        "\n",
        "for cat in categories:\n",
        "    cat[cat == None] = 'missing'  # noqa\n",
        "\n",
        "cat_proc_nlin = make_pipeline(\n",
        "    SimpleImputer(missing_values=None, strategy='constant',\n",
        "                  fill_value='missing'),\n",
        "    OrdinalEncoder(categories=categories)\n",
        "    )\n",
        "\n",
        "num_proc_nlin = make_pipeline(SimpleImputer(strategy='mean'))\n",
        "\n",
        "cat_proc_lin = make_pipeline(\n",
        "    SimpleImputer(missing_values=None,\n",
        "                  strategy='constant',\n",
        "                  fill_value='missing'),\n",
        "    OneHotEncoder(categories=categories)\n",
        ")\n",
        "\n",
        "num_proc_lin = make_pipeline(\n",
        "    SimpleImputer(strategy='mean'),\n",
        "    StandardScaler()\n",
        ")\n",
        "\n",
        "# transformation to use for non-linear estimators\n",
        "processor_nlin = make_column_transformer(\n",
        "    (cat_proc_nlin, cat_cols),\n",
        "    (num_proc_nlin, num_cols),\n",
        "    remainder='passthrough')\n",
        "\n",
        "# transformation to use for linear estimators\n",
        "processor_lin = make_column_transformer(\n",
        "    (cat_proc_lin, cat_cols),\n",
        "    (num_proc_lin, num_cols),\n",
        "    remainder='passthrough')"
      ],
      "execution_count": 73,
      "outputs": []
    },
    {
      "cell_type": "code",
      "metadata": {
        "id": "QBduLZ4VSPPt"
      },
      "source": [
        "from sklearn.experimental import enable_hist_gradient_boosting  # noqa\n",
        "from sklearn.ensemble import HistGradientBoostingRegressor\n",
        "from sklearn.ensemble import RandomForestRegressor\n",
        "\n",
        "\n",
        "from sklearn.ensemble import RandomForestClassifier\n",
        "from sklearn.gaussian_process import GaussianProcessClassifier\n",
        "from sklearn.neural_network import MLPClassifier\n",
        "from sklearn.ensemble import GradientBoostingClassifier\n",
        "from sklearn.svm import SVC\n",
        "from sklearn.ensemble import AdaBoostClassifier\n",
        "from sklearn.neighbors import KNeighborsClassifier\n",
        "from sklearn.naive_bayes import GaussianNB\n",
        "\n",
        "from sklearn.linear_model import RidgeCV\n",
        "from sklearn.ensemble import StackingClassifier\n",
        "\n",
        "\n",
        "rf_pipeline = make_pipeline(processor_lin,\n",
        "                            RandomForestClassifier(random_state=50))\n",
        "\n",
        "svm_rbf_pipeline = make_pipeline(\n",
        "    processor_lin,\n",
        "    SVC(gamma=2, C=1))\n",
        "\n",
        "svm_lin_pipeline = make_pipeline(\n",
        "    processor_lin,\n",
        "    SVC(kernel='linear', C=0.025))\n",
        "\n",
        "mlp_pipeline = make_pipeline(\n",
        "    processor_lin,\n",
        "    MLPClassifier(alpha=0.01, max_iter=1000, activation='logistic'))\n",
        "\n",
        "gradient_pipeline = make_pipeline(\n",
        "    processor_lin,\n",
        "    GradientBoostingClassifier(random_state=50))\n",
        "\n",
        "knn_pipeline = make_pipeline(\n",
        "    processor_lin,\n",
        "    KNeighborsClassifier(5))\n",
        "\n",
        "naive_pipeline = make_pipeline(\n",
        "    processor_lin,\n",
        "    GaussianNB(5))\n",
        "\n",
        "gaussian_pipeline = make_pipeline(\n",
        "    processor_lin,\n",
        "    GaussianProcessClassifier())\n",
        "\n",
        "adaboost_pipeline = make_pipeline(processor_lin,\n",
        "                                  AdaBoostClassifier())\n",
        "\n",
        "lasso_pipeline = make_pipeline(processor_lin,\n",
        "                               LassoCV())\n",
        "\n",
        "estimators = [('Random Forest', rf_pipeline),\n",
        "              #('RBF SVM', svm_rbf_pipeline),\n",
        "              ('Linear SVM', svm_lin_pipeline),\n",
        "              ('MLP', mlp_pipeline),\n",
        "              ('Gradient Boosting', gradient_pipeline),\n",
        "              ('KNN', knn_pipeline)]\n",
        "\n",
        "stacking_classifier = StackingClassifier(estimators=estimators)"
      ],
      "execution_count": 74,
      "outputs": []
    },
    {
      "cell_type": "code",
      "metadata": {
        "id": "jeYM380CSRPU",
        "outputId": "19c3b426-d58f-48fa-d566-4ea4df2e4eb3",
        "colab": {
          "base_uri": "https://localhost:8080/",
          "height": 760
        }
      },
      "source": [
        "import time\n",
        "import matplotlib.pyplot as plt\n",
        "from sklearn.model_selection import cross_validate, cross_val_predict\n",
        "from sklearn.metrics import confusion_matrix\n",
        "\n",
        "\n",
        "\n",
        "results_list = []\n",
        "plot_reg = False\n",
        "plot_cf = True\n",
        "\n",
        "categories = ['1', '2', '3', '4']\n",
        "\n",
        "if plot_reg:\n",
        "  fig, axs = plt.subplots(2, 2, figsize=(9, 7))\n",
        "elif plot_cf:\n",
        "  fig, axs = plt.subplots(2, 3, figsize=(16, 10))\n",
        "  axs = np.ravel(axs)\n",
        "\n",
        "\n",
        "\n",
        "for ax, (name, est) in zip(axs, estimators + [('Stacking Classifier',\n",
        "                                               stacking_classifier)]):\n",
        "#for ax, (name, est) in zip(axs, estimators):\n",
        "    \n",
        "    start_time = time.time()\n",
        "\n",
        "    score = cross_validate(est, X, y,\n",
        "                           scoring=['r2', 'neg_mean_absolute_error'],\n",
        "                           n_jobs=-1, verbose=0)\n",
        "    \n",
        "    score_str = (r'$R^2={:.2f} \\pm {:.2f}$' + '\\n' \\\n",
        "                 + r'$MAE={:.2f} \\pm {:.2f}$'\n",
        "                 ).format(np.mean(score['test_r2']),\n",
        "                  np.std(score['test_r2']),\n",
        "                  -np.mean(score['test_neg_mean_absolute_error']),\n",
        "                  np.std(score['test_neg_mean_absolute_error']))\n",
        "    \n",
        "    elapsed_time = time.time() - start_time\n",
        "\n",
        "    y_pred = cross_val_predict(est, X, y, n_jobs=-1, verbose=0)\n",
        "\n",
        "    cf_matrix = confusion_matrix(y, y_pred)\n",
        "\n",
        "    results_list.append(cf_matrix)\n",
        "\n",
        "    if plot_cf:\n",
        "      make_confusion_matrix(cf_matrix, \n",
        "                            title=name, \n",
        "                            categories=categories, \n",
        "                            score_str=score_str,\n",
        "                            elapsed_time=elapsed_time,\n",
        "                            ax=ax)\n",
        "      #sns.heatmap(cf_matrix/np.sum(cf_matrix), \n",
        "                  #annot=True, \n",
        "                  #fmt='.2%', \n",
        "                  #cmap='Blues',\n",
        "                  #ax=ax)      \n",
        "\n",
        "    if plot_reg:\n",
        "      plot_regression_results(\n",
        "          ax, y, y_pred,\n",
        "          name,\n",
        "          score_str,\n",
        "          elapsed_time)\n",
        "\n",
        "plt.suptitle('Comparaison')\n",
        "plt.tight_layout()\n",
        "plt.subplots_adjust(top=0.9)\n",
        "plt.show()"
      ],
      "execution_count": 75,
      "outputs": [
        {
          "output_type": "stream",
          "text": [
            "/usr/local/lib/python3.6/dist-packages/joblib/externals/loky/process_executor.py:691: UserWarning: A worker stopped while some jobs were given to the executor. This can be caused by a too short worker timeout or by a memory leak.\n",
            "  \"timeout or by a memory leak.\", UserWarning\n"
          ],
          "name": "stderr"
        },
        {
          "output_type": "display_data",
          "data": {
            "image/png": "[encoded data removed]",
            "text/plain": [
              "<Figure size 1152x720 with 12 Axes>"
            ]
          },
          "metadata": {
            "tags": [],
            "needs_background": "light"
          }
        }
      ]
    },
    {
      "cell_type": "code",
      "metadata": {
        "id": "EPK0KusUGmoT",
        "outputId": "46e43335-91a2-410f-858b-3e15525a5958",
        "colab": {
          "base_uri": "https://localhost:8080/",
          "height": 238
        }
      },
      "source": [
        "results_list"
      ],
      "execution_count": 72,
      "outputs": [
        {
          "output_type": "execute_result",
          "data": {
            "text/plain": [
              "[array([[   0,   28,    2,    0],\n",
              "        [   0, 2169,  187,    2],\n",
              "        [   0,  781,  244,    0],\n",
              "        [   0,   76,   25,    0]]), array([[   0,   30,    0,    0],\n",
              "        [   0, 2358,    0,    0],\n",
              "        [   0, 1025,    0,    0],\n",
              "        [   0,  101,    0,    0]]), array([[   0,   19,   11,    0],\n",
              "        [   0, 1375,  983,    0],\n",
              "        [   0,  454,  569,    2],\n",
              "        [   0,   48,   52,    1]]), array([[   6,   21,    2,    1],\n",
              "        [   8, 2117,  222,   11],\n",
              "        [   1,  699,  318,    7],\n",
              "        [   1,   74,   21,    5]])]"
            ]
          },
          "metadata": {
            "tags": []
          },
          "execution_count": 72
        }
      ]
    },
    {
      "cell_type": "code",
      "metadata": {
        "id": "wFkIe5zRGpvP",
        "outputId": "0a3ae8e2-9bf8-4276-ebd2-b7c44ae6b116",
        "colab": {
          "base_uri": "https://localhost:8080/",
          "height": 34
        }
      },
      "source": [
        "results_list[0].tolist()\n"
      ],
      "execution_count": 45,
      "outputs": [
        {
          "output_type": "execute_result",
          "data": {
            "text/plain": [
              "[[3, 19, 4, 0], [1, 2147, 178, 0], [0, 778, 275, 1], [0, 75, 30, 3]]"
            ]
          },
          "metadata": {
            "tags": []
          },
          "execution_count": 45
        }
      ]
    },
    {
      "cell_type": "code",
      "metadata": {
        "id": "ERaGsPysjkkL",
        "outputId": "8276fa9d-6911-4cbc-a99a-0a9b9eabcbac",
        "colab": {
          "base_uri": "https://localhost:8080/",
          "height": 129
        }
      },
      "source": [
        "categories = ['1', '2', '3', '4']\n",
        "\n",
        "make_confusion_matrix(results_list[3], \n",
        "                            title=Test, \n",
        "                            categories=categories, \n",
        "                            score_str='score_str,\n",
        "                            elapsed_time='11 sec',\n",
        "                            ax=ax)"
      ],
      "execution_count": 57,
      "outputs": [
        {
          "output_type": "error",
          "ename": "SyntaxError",
          "evalue": "ignored",
          "traceback": [
            "\u001b[0;36m  File \u001b[0;32m\"<ipython-input-57-0de871cccae1>\"\u001b[0;36m, line \u001b[0;32m8\u001b[0m\n\u001b[0;31m    score_str='score_str,\u001b[0m\n\u001b[0m                         ^\u001b[0m\n\u001b[0;31mSyntaxError\u001b[0m\u001b[0;31m:\u001b[0m EOL while scanning string literal\n"
          ]
        }
      ]
    },
    {
      "cell_type": "code",
      "metadata": {
        "id": "VdM442_1f8Ld",
        "outputId": "059ca62e-3a86-4188-a839-00d7bad48110",
        "colab": {
          "base_uri": "https://localhost:8080/",
          "height": 102
        }
      },
      "source": [
        "df['Severity'].value_counts()/df.shape[0]"
      ],
      "execution_count": 33,
      "outputs": [
        {
          "output_type": "execute_result",
          "data": {
            "text/plain": [
              "2    0.661924\n",
              "3    0.299943\n",
              "4    0.030734\n",
              "1    0.007399\n",
              "Name: Severity, dtype: float64"
            ]
          },
          "metadata": {
            "tags": []
          },
          "execution_count": 33
        }
      ]
    },
    {
      "cell_type": "code",
      "metadata": {
        "id": "c_825Byvfo7v",
        "outputId": "26aa5f1b-bfde-4c1e-a240-a125d06a308c",
        "colab": {
          "base_uri": "https://localhost:8080/",
          "height": 68
        }
      },
      "source": [
        "cross_validate(estimators[0][1],X,y,n_jobs=-1)"
      ],
      "execution_count": 35,
      "outputs": [
        {
          "output_type": "execute_result",
          "data": {
            "text/plain": [
              "{'fit_time': array([2.34639668, 2.32558966, 2.33574605, 2.35950708, 1.65187073]),\n",
              " 'score_time': array([0.05606222, 0.05687261, 0.05765533, 0.05832124, 0.03788304]),\n",
              " 'test_score': array([0.69843528, 0.69559033, 0.68705548, 0.66714083, 0.70655271])}"
            ]
          },
          "metadata": {
            "tags": []
          },
          "execution_count": 35
        }
      ]
    },
    {
      "cell_type": "code",
      "metadata": {
        "id": "plwbBU5jgOUL",
        "outputId": "015979fd-82a1-4cfc-830e-30fa89fc3fa3",
        "colab": {
          "base_uri": "https://localhost:8080/",
          "height": 68
        }
      },
      "source": [
        "cross_validate(estimators[1][1],X,y,n_jobs=-1)"
      ],
      "execution_count": 36,
      "outputs": [
        {
          "output_type": "execute_result",
          "data": {
            "text/plain": [
              "{'fit_time': array([0.53650498, 0.55896091, 0.53564763, 0.53593159, 0.39940739]),\n",
              " 'score_time': array([0.05099106, 0.06813836, 0.04837584, 0.05597663, 0.02949643]),\n",
              " 'test_score': array([0.42532006, 0.59317212, 0.49928876, 0.3940256 , 0.42165242])}"
            ]
          },
          "metadata": {
            "tags": []
          },
          "execution_count": 36
        }
      ]
    },
    {
      "cell_type": "code",
      "metadata": {
        "id": "7G4RTSQ4gd32",
        "outputId": "30ed92bc-f043-4eb6-ade8-0131146845e6",
        "colab": {
          "base_uri": "https://localhost:8080/",
          "height": 68
        }
      },
      "source": [
        "cross_validate(estimators[2][1],X,y,n_jobs=-1)"
      ],
      "execution_count": 37,
      "outputs": [
        {
          "output_type": "execute_result",
          "data": {
            "text/plain": [
              "{'fit_time': array([5.45198727, 5.5241549 , 5.50333381, 5.55890322, 3.85578609]),\n",
              " 'score_time': array([0.02771544, 0.0288403 , 0.02768922, 0.02893138, 0.02120686]),\n",
              " 'test_score': array([0.68705548, 0.7197724 , 0.70697013, 0.6799431 , 0.71367521])}"
            ]
          },
          "metadata": {
            "tags": []
          },
          "execution_count": 37
        }
      ]
    },
    {
      "cell_type": "code",
      "metadata": {
        "id": "MnYTSZ_a2roz",
        "outputId": "aa532dff-01e9-44b9-ecf4-eba7325b1462",
        "colab": {
          "base_uri": "https://localhost:8080/",
          "height": 102
        }
      },
      "source": [
        "df[target].value_counts()"
      ],
      "execution_count": 32,
      "outputs": [
        {
          "output_type": "execute_result",
          "data": {
            "text/plain": [
              "3    1475\n",
              "2    1475\n",
              "1    1475\n",
              "4    1475\n",
              "Name: Severity, dtype: int64"
            ]
          },
          "metadata": {
            "tags": []
          },
          "execution_count": 32
        }
      ]
    }
  ]
}