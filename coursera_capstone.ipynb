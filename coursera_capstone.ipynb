{
  "nbformat": 4,
  "nbformat_minor": 0,
  "metadata": {
    "language_info": {
      "codemirror_mode": {
        "name": "ipython",
        "version": 3
      },
      "file_extension": ".py",
      "mimetype": "text/x-python",
      "name": "python",
      "nbconvert_exporter": "python",
      "pygments_lexer": "ipython3",
      "version": "3.8.3-final"
    },
    "orig_nbformat": 2,
    "kernelspec": {
      "name": "python3",
      "display_name": "Python 3"
    },
    "colab": {
      "name": "coursera_capstone.ipynb",
      "provenance": [],
      "include_colab_link": true
    }
  },
  "cells": [
    {
      "cell_type": "markdown",
      "metadata": {
        "id": "view-in-github",
        "colab_type": "text"
      },
      "source": [
        "<a href=\"https://colab.research.google.com/github/imadjamil/coursera_capstone/blob/master/coursera_capstone.ipynb\" target=\"_parent\"><img src=\"https://colab.research.google.com/assets/colab-badge.svg\" alt=\"Open In Colab\"/></a>"
      ]
    },
    {
      "cell_type": "markdown",
      "metadata": {
        "id": "PP_dODM06j41"
      },
      "source": [
        "# Coursera capstone project\n",
        "In this notebook, I will be working on the applied data science capstone project."
      ]
    },
    {
      "cell_type": "markdown",
      "metadata": {
        "id": "2I5mFCDO6j43"
      },
      "source": [
        "## Import section"
      ]
    },
    {
      "cell_type": "code",
      "metadata": {
        "tags": [],
        "id": "XPe1XL_96j47",
        "outputId": "e4444f3f-2a89-456a-85f2-88b7eb5385fd"
      },
      "source": [
        "import pandas as pd\n",
        "import numpy as np\n",
        "\n",
        "print(\"Hello Capstone Project Course!\")"
      ],
      "execution_count": null,
      "outputs": [
        {
          "output_type": "stream",
          "text": [
            "Hello Capstone Project Course!\n"
          ],
          "name": "stdout"
        }
      ]
    },
    {
      "cell_type": "markdown",
      "metadata": {
        "id": "CO5uAb-76j5C"
      },
      "source": [
        "## Data processing section"
      ]
    },
    {
      "cell_type": "code",
      "metadata": {
        "id": "C_ohvKrN6j5D"
      },
      "source": [
        ""
      ],
      "execution_count": null,
      "outputs": []
    }
  ]
}